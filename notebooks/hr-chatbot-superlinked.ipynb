{
 "cells": [
  {
   "cell_type": "markdown",
   "metadata": {},
   "source": [
    "## HR chatbot by Superlinked\n",
    "\n",
    "I'm following a [tutorial](https://github.com/superlinked/superlinked/blob/main/notebook/rag_hr_knowledgebase.ipynb) created by Superlinked but making some changes: \n",
    "* Use ChatGPT instead of LLama2\n",
    "\n",
    "This guide implies that you can deploy and run Llama2 locally (which I'm not doing and haven't tried).\n",
    "* There is more information available on Huggingface.co ([Llama 2 is here - get it on Hugging Face](https://huggingface.co/blog/llama2)); and \n",
    "* on Meta's website ([5 Steps to Getting Started with Llama 2](https://ai.meta.com/blog/5-steps-to-getting-started-with-llama-2/))"
   ]
  },
  {
   "cell_type": "markdown",
   "metadata": {},
   "source": [
    "### Installation"
   ]
  },
  {
   "cell_type": "code",
   "execution_count": null,
   "metadata": {},
   "outputs": [],
   "source": [
    "%pip install superlinked==6.8.0\n",
    "%pip install -U jupyter ipywidgets\n",
    "%pip install -U torch transformers accelerate"
   ]
  },
  {
   "cell_type": "markdown",
   "metadata": {},
   "source": [
    "**Explanation of modules**\n",
    "\n",
    "* `ipywidgets`: Enables the use of interactive HTML widgets (e.g. sliders) within your Jupyter notebooks.\n",
    "* `torch`: This is the package for PyTorch, an open-source machine learning library used for applications such as computer vision and natural language processing. PyTorch provides two high-level features: \n",
    "    * Tensor computation (like NumPy) with strong GPU acceleration.\n",
    "    * Deep neural networks built on a tape-based autograd system.\n",
    "* `transformers`: This is a package from Hugging Face that provides state-of-the-art machine learning models, particularly for natural language processing (NLP) tasks. It includes implementations of various transformer models like BERT, GPT, and T5.\n",
    "* `accelerate`: This package is also from Hugging Face. It is designed to help with the efficient training of models across multiple GPUs, TPUs, or other hardware accelerators. It simplifies distributed training and optimization for large-scale models.\n",
    "\n",
    "I think that most of these libraries are needed for Llama2 to work but since I'm using ChatGPT we probably don't need them. "
   ]
  },
  {
   "cell_type": "markdown",
   "metadata": {},
   "source": [
    "### Imports "
   ]
  },
  {
   "cell_type": "code",
   "execution_count": 42,
   "metadata": {},
   "outputs": [],
   "source": [
    "from datetime import timedelta, datetime\n",
    "\n",
    "from dotenv import load_dotenv\n",
    "from openai import OpenAI\n",
    "import os \n",
    "\n",
    "import pandas as pd\n",
    "import requests\n",
    "import torch\n",
    "from transformers import AutoTokenizer, pipeline\n",
    "\n",
    "from superlinked.framework.common.dag.context import CONTEXT_COMMON, CONTEXT_COMMON_NOW\n",
    "from superlinked.framework.common.dag.period_time import PeriodTime\n",
    "from superlinked.framework.common.schema.schema import schema\n",
    "from superlinked.framework.common.schema.schema_object import String, Timestamp\n",
    "from superlinked.framework.common.schema.id_schema_object import IdField\n",
    "from superlinked.framework.common.parser.dataframe_parser import DataFrameParser\n",
    "from superlinked.framework.dsl.executor.in_memory.in_memory_executor import (\n",
    "    InMemoryExecutor,\n",
    ")\n",
    "from superlinked.framework.dsl.index.index import Index\n",
    "from superlinked.framework.dsl.query.param import Param\n",
    "from superlinked.framework.dsl.query.query import Query\n",
    "from superlinked.framework.dsl.query.result import Result\n",
    "from superlinked.framework.dsl.source.in_memory_source import InMemorySource\n",
    "from superlinked.framework.dsl.space.text_similarity_space import (\n",
    "    TextSimilaritySpace,\n",
    "    chunk,\n",
    ")\n",
    "from superlinked.framework.dsl.space.recency_space import RecencySpace"
   ]
  },
  {
   "cell_type": "markdown",
   "metadata": {},
   "source": [
    "### Constants"
   ]
  },
  {
   "cell_type": "code",
   "execution_count": 40,
   "metadata": {},
   "outputs": [
    {
     "data": {
      "text/plain": [
       "True"
      ]
     },
     "execution_count": 40,
     "metadata": {},
     "output_type": "execute_result"
    }
   ],
   "source": [
    "# pandas display settings\n",
    "pd.set_option(\"display.max_colwidth\", None)\n",
    "\n",
    "# constants \n",
    "START_OF_2024_TS = int(datetime(2024, 1, 2).timestamp())\n",
    "EXECUTOR_DATA = {CONTEXT_COMMON: {CONTEXT_COMMON_NOW: START_OF_2024_TS}}\n",
    "TOP_N = 10\n",
    "\n",
    "# environment variables (OpenAI key)\n",
    "load_dotenv()"
   ]
  },
  {
   "cell_type": "markdown",
   "metadata": {},
   "source": [
    "### Load data"
   ]
  },
  {
   "cell_type": "code",
   "execution_count": 4,
   "metadata": {},
   "outputs": [],
   "source": [
    "# the new HR policy document\n",
    "r_new = requests.get(\n",
    "    \"https://storage.googleapis.com/superlinked-notebook-hr-knowledgebase/hr_rag_knowledgebase.txt\"\n",
    ")\n",
    "r_new.encoding = \"utf-8-sig\"\n",
    "text_new = r_new.text.replace(\"\\r\\n\", \"\\n\").split(\"\\n\")\n",
    "r_old = requests.get(\n",
    "    \"https://storage.googleapis.com/superlinked-notebook-hr-knowledgebase/hr_rag_old_text.txt\"\n",
    ")\n",
    "r_old.encoding = \"utf-8-sig\"\n",
    "text_old = r_old.text.replace(\"\\r\\n\", \"\\n\").split(\"\\n\")"
   ]
  },
  {
   "cell_type": "code",
   "execution_count": 23,
   "metadata": {},
   "outputs": [
    {
     "data": {
      "text/html": [
       "<div>\n",
       "<style scoped>\n",
       "    .dataframe tbody tr th:only-of-type {\n",
       "        vertical-align: middle;\n",
       "    }\n",
       "\n",
       "    .dataframe tbody tr th {\n",
       "        vertical-align: top;\n",
       "    }\n",
       "\n",
       "    .dataframe thead th {\n",
       "        text-align: right;\n",
       "    }\n",
       "</style>\n",
       "<table border=\"1\" class=\"dataframe\">\n",
       "  <thead>\n",
       "    <tr style=\"text-align: right;\">\n",
       "      <th></th>\n",
       "      <th>index</th>\n",
       "      <th>body</th>\n",
       "      <th>creation_date</th>\n",
       "    </tr>\n",
       "  </thead>\n",
       "  <tbody>\n",
       "    <tr>\n",
       "      <th>0</th>\n",
       "      <td>0</td>\n",
       "      <td>To ensure that employees and contractors meet security requirements, understand their responsibilities, and are suitable for their roles.</td>\n",
       "      <td>1704067200</td>\n",
       "    </tr>\n",
       "    <tr>\n",
       "      <th>1</th>\n",
       "      <td>1</td>\n",
       "      <td>This policy applies to all employees of &lt;Company Name&gt;, consultants, contractors and other third-party entities with access to &lt;Company Name&gt; production networks and system resources.</td>\n",
       "      <td>1704067200</td>\n",
       "    </tr>\n",
       "    <tr>\n",
       "      <th>2</th>\n",
       "      <td>2</td>\n",
       "      <td>Background verification checks on &lt;Company Name&gt; personnel shall be carried out in accordance with relevant laws, regulations, and shall be proportional to the business requirements, the classification of the information to be accessed, and the perceived risks. Background screening shall include criminal history checks unless prohibited by local statute. All third-parties with technical privileged or administrative access to &lt;Company Name&gt; production systems or networks are subject to a background check or requirement to provide evidence of an acceptable background, based on their level of access and the perceived risk to &lt;Company Name&gt;.</td>\n",
       "      <td>1704067200</td>\n",
       "    </tr>\n",
       "    <tr>\n",
       "      <th>3</th>\n",
       "      <td>3</td>\n",
       "      <td>The skills and competence of employees and contractors shall be assessed by human resources staff and the hiring manager or his or her designees as part of the hiring process. Required skills and competencies shall be listed in job descriptions and requisitions, and/or aligned with the responsibilities outlined in the Roles and Responsibilities Policy. Competency evaluations may include reference checks, education and certification verifications, technical testing, and interviews.</td>\n",
       "      <td>1704067200</td>\n",
       "    </tr>\n",
       "    <tr>\n",
       "      <th>4</th>\n",
       "      <td>4</td>\n",
       "      <td>All &lt;Company Name&gt; employees will undergo an annual performance review which will include an assessment of job performance, competence in the role, adherence to company policies and code of conduct, and achievement of role-specific objectives.</td>\n",
       "      <td>1704067200</td>\n",
       "    </tr>\n",
       "  </tbody>\n",
       "</table>\n",
       "</div>"
      ],
      "text/plain": [
       "   index  \\\n",
       "0      0   \n",
       "1      1   \n",
       "2      2   \n",
       "3      3   \n",
       "4      4   \n",
       "\n",
       "                                                                                                                                                                                                                                                                                                                                                                                                                                                                                                                                                                                                                                                                    body  \\\n",
       "0                                                                                                                                                                                                                                                                                                                                                                                                                                                                                                                              To ensure that employees and contractors meet security requirements, understand their responsibilities, and are suitable for their roles.   \n",
       "1                                                                                                                                                                                                                                                                                                                                                                                                                                                                                This policy applies to all employees of <Company Name>, consultants, contractors and other third-party entities with access to <Company Name> production networks and system resources.   \n",
       "2  Background verification checks on <Company Name> personnel shall be carried out in accordance with relevant laws, regulations, and shall be proportional to the business requirements, the classification of the information to be accessed, and the perceived risks. Background screening shall include criminal history checks unless prohibited by local statute. All third-parties with technical privileged or administrative access to <Company Name> production systems or networks are subject to a background check or requirement to provide evidence of an acceptable background, based on their level of access and the perceived risk to <Company Name>.   \n",
       "3                                                                                                                                                                  The skills and competence of employees and contractors shall be assessed by human resources staff and the hiring manager or his or her designees as part of the hiring process. Required skills and competencies shall be listed in job descriptions and requisitions, and/or aligned with the responsibilities outlined in the Roles and Responsibilities Policy. Competency evaluations may include reference checks, education and certification verifications, technical testing, and interviews.   \n",
       "4                                                                                                                                                                                                                                                                                                                                                                                                                    All <Company Name> employees will undergo an annual performance review which will include an assessment of job performance, competence in the role, adherence to company policies and code of conduct, and achievement of role-specific objectives.   \n",
       "\n",
       "   creation_date  \n",
       "0     1704067200  \n",
       "1     1704067200  \n",
       "2     1704067200  \n",
       "3     1704067200  \n",
       "4     1704067200  "
      ]
     },
     "execution_count": 23,
     "metadata": {},
     "output_type": "execute_result"
    }
   ],
   "source": [
    "text_df = pd.DataFrame(text_new + text_old, columns=[\"body\"]).reset_index()\n",
    "# add timestamps to differentiate the two sources\n",
    "text_df[\"creation_date\"] = [\n",
    "    int(datetime(2024, 1, 1).timestamp())] * len(text_new) + [\n",
    "    int(datetime(2023, 1, 1).timestamp())\n",
    "] * len(text_old)\n",
    "text_df.head()"
   ]
  },
  {
   "cell_type": "markdown",
   "metadata": {},
   "source": [
    "### Set up Superlinked for Retrieval"
   ]
  },
  {
   "cell_type": "code",
   "execution_count": 6,
   "metadata": {},
   "outputs": [],
   "source": [
    "# typed schema to describe our inputs\n",
    "@schema\n",
    "class ParagraphSchema:\n",
    "    body: String\n",
    "    created_at: Timestamp\n",
    "    id: IdField"
   ]
  },
  {
   "cell_type": "markdown",
   "metadata": {},
   "source": [
    "We'll map the column names to reflect our DataFrame structure further down below (`index` not `id` and `creation_date` not `created_at`)."
   ]
  },
  {
   "cell_type": "code",
   "execution_count": 7,
   "metadata": {},
   "outputs": [],
   "source": [
    "paragraph = ParagraphSchema()"
   ]
  },
  {
   "cell_type": "code",
   "execution_count": null,
   "metadata": {},
   "outputs": [],
   "source": [
    "# relevance space will encode our knowledge base utilizing chunking to control the granularity of information\n",
    "relevance_space = TextSimilaritySpace(\n",
    "    text=chunk(paragraph.body, chunk_size=100, chunk_overlap=20),\n",
    "    model=\"sentence-transformers/all-mpnet-base-v2\",\n",
    ")\n",
    "# recency has a period time to differentiate between the document created at the beginning of this year and last year\n",
    "recency_space = RecencySpace(\n",
    "    timestamp=paragraph.created_at,\n",
    "    period_time_list=[PeriodTime(timedelta(days=300))],\n",
    "    negative_filter=-0.25,\n",
    ")"
   ]
  },
  {
   "cell_type": "code",
   "execution_count": 9,
   "metadata": {},
   "outputs": [],
   "source": [
    "paragraph_index = Index([relevance_space, recency_space])\n",
    "paragraph_parser = DataFrameParser(\n",
    "    paragraph, mapping={paragraph.id: \"index\", paragraph.created_at: \"creation_date\"}\n",
    ")\n",
    "source: InMemorySource = InMemorySource(paragraph, parser=paragraph_parser)\n",
    "executor = InMemoryExecutor(\n",
    "    sources=[source], indices=[paragraph_index], context_data=EXECUTOR_DATA\n",
    ")\n",
    "app = executor.run()\n",
    "source.put([text_df])"
   ]
  },
  {
   "cell_type": "code",
   "execution_count": 10,
   "metadata": {},
   "outputs": [],
   "source": [
    "# our simple query will make a search term possible, and gives us the opportunity to weight input aspects (relevance and recency against each other)\n",
    "knowledgebase_query = (\n",
    "    Query(\n",
    "        paragraph_index,\n",
    "        weights={\n",
    "            relevance_space: Param(\"relevance_weight\"),\n",
    "            recency_space: Param(\"recency_weight\"),\n",
    "        },\n",
    "    )\n",
    "    .find(paragraph)\n",
    "    .similar(relevance_space.text, Param(\"search_query\"))\n",
    "    .limit(Param(\"limit\"))\n",
    ")"
   ]
  },
  {
   "cell_type": "markdown",
   "metadata": {},
   "source": [
    "### Perform retrieval"
   ]
  },
  {
   "cell_type": "code",
   "execution_count": 11,
   "metadata": {},
   "outputs": [],
   "source": [
    "def present_result(result: Result):\n",
    "    \"\"\"A small helper function to present our query results\"\"\"\n",
    "    df = result.to_pandas()\n",
    "    df[\"year_created\"] = [datetime.fromtimestamp(ts).year for ts in df[\"created_at\"]]\n",
    "    return df.drop(\"created_at\", axis=1)"
   ]
  },
  {
   "cell_type": "code",
   "execution_count": 12,
   "metadata": {},
   "outputs": [],
   "source": [
    "initial_query_text: str = \"What should management monitor?\""
   ]
  },
  {
   "cell_type": "markdown",
   "metadata": {},
   "source": [
    "First, let's do a simple retrieval based only on text similarity. We can see that the recency weight is set to 0, so the document creation dates are not affecting our results."
   ]
  },
  {
   "cell_type": "code",
   "execution_count": 24,
   "metadata": {},
   "outputs": [
    {
     "data": {
      "text/html": [
       "<div>\n",
       "<style scoped>\n",
       "    .dataframe tbody tr th:only-of-type {\n",
       "        vertical-align: middle;\n",
       "    }\n",
       "\n",
       "    .dataframe tbody tr th {\n",
       "        vertical-align: top;\n",
       "    }\n",
       "\n",
       "    .dataframe thead th {\n",
       "        text-align: right;\n",
       "    }\n",
       "</style>\n",
       "<table border=\"1\" class=\"dataframe\">\n",
       "  <thead>\n",
       "    <tr style=\"text-align: right;\">\n",
       "      <th></th>\n",
       "      <th>body</th>\n",
       "      <th>id</th>\n",
       "      <th>year_created</th>\n",
       "    </tr>\n",
       "  </thead>\n",
       "  <tbody>\n",
       "    <tr>\n",
       "      <th>0</th>\n",
       "      <td>Management shall be responsible for ensuring that information security policies and procedures are reviewed annually, distributed and available, and that employees and contractors abide by those policies and procedures for the duration of their employment or engagement. Annual policy review shall include a review of any linked or referenced procedures, standards or guidelines.</td>\n",
       "      <td>6</td>\n",
       "      <td>2024</td>\n",
       "    </tr>\n",
       "    <tr>\n",
       "      <th>1</th>\n",
       "      <td>Management is tasked with ensuring that information security policies and procedures undergo an bi-annual review, are disseminated and accessible, and that employees and contractors adhere to them throughout their tenure or contract period. The yearly policy assessment must encompass a scrutiny of any interconnected or referenced protocols, standards, or directives.</td>\n",
       "      <td>16</td>\n",
       "      <td>2023</td>\n",
       "    </tr>\n",
       "    <tr>\n",
       "      <th>2</th>\n",
       "      <td>Management shall ensure that information security responsibilities are communicated to individuals, through written job descriptions, policies or some other documented method which is accurately updated and maintained. Compliance with information security policies and procedures and fulfillment of information security responsibilities shall be evaluated as part of the performance review process wherever applicable.</td>\n",
       "      <td>7</td>\n",
       "      <td>2024</td>\n",
       "    </tr>\n",
       "    <tr>\n",
       "      <th>3</th>\n",
       "      <td>Management must guarantee that information security obligations are conveyed to individuals, either through written job outlines, policies, or alternative documented means that are regularly updated and managed accurately. Compliance with information security protocols and the fulfillment of related duties should form part of the performance evaluation process in all cases.</td>\n",
       "      <td>18</td>\n",
       "      <td>2023</td>\n",
       "    </tr>\n",
       "    <tr>\n",
       "      <th>4</th>\n",
       "      <td>Management should factor in undue pressures and potential fraud scenarios when devising incentives and delineating roles, duties, and authorizations.</td>\n",
       "      <td>17</td>\n",
       "      <td>2023</td>\n",
       "    </tr>\n",
       "    <tr>\n",
       "      <th>5</th>\n",
       "      <td>Management shall consider excessive pressures, and opportunities for fraud when establishing incentives and segregating roles, responsibilities, and authorities.</td>\n",
       "      <td>8</td>\n",
       "      <td>2024</td>\n",
       "    </tr>\n",
       "    <tr>\n",
       "      <th>6</th>\n",
       "      <td>To ensure that employees and contractors meet security requirements, understand their responsibilities, and are suitable for their roles.</td>\n",
       "      <td>0</td>\n",
       "      <td>2024</td>\n",
       "    </tr>\n",
       "    <tr>\n",
       "      <th>7</th>\n",
       "      <td>All &lt;Company Name&gt; employees will undergo an annual performance review which will include an assessment of job performance, competence in the role, adherence to company policies and code of conduct, and achievement of role-specific objectives.</td>\n",
       "      <td>4</td>\n",
       "      <td>2024</td>\n",
       "    </tr>\n",
       "    <tr>\n",
       "      <th>8</th>\n",
       "      <td>Information security leaders and managers shall ensure appropriate professional development occurs to provide an understanding of current threats and trends in the security landscape. Security leaders and key stakeholders shall attend trainings, obtain and maintain relevant certifications, and maintain memberships in industry groups as appropriate.</td>\n",
       "      <td>11</td>\n",
       "      <td>2024</td>\n",
       "    </tr>\n",
       "    <tr>\n",
       "      <th>9</th>\n",
       "      <td>All &lt;Company Name&gt; employees and third-parties with administrative or privileged technical access to &lt;Company Name&gt; production systems and networks shall complete security awareness training at the time of hire and annually thereafter. Management shall monitor training completion and shall take appropriate steps to ensure compliance with this policy. Employees and contractors shall be aware of relevant information security and data privacy policies and procedures. The company shall ensure that personnel receive security and data privacy training appropriate to their role and data handling responsibilities.</td>\n",
       "      <td>9</td>\n",
       "      <td>2024</td>\n",
       "    </tr>\n",
       "  </tbody>\n",
       "</table>\n",
       "</div>"
      ],
      "text/plain": [
       "                                                                                                                                                                                                                                                                                                                                                                                                                                                                                                                                                                                                                                    body  \\\n",
       "0                                                                                                                                                                                                                                            Management shall be responsible for ensuring that information security policies and procedures are reviewed annually, distributed and available, and that employees and contractors abide by those policies and procedures for the duration of their employment or engagement. Annual policy review shall include a review of any linked or referenced procedures, standards or guidelines.   \n",
       "1                                                                                                                                                                                                                                                       Management is tasked with ensuring that information security policies and procedures undergo an bi-annual review, are disseminated and accessible, and that employees and contractors adhere to them throughout their tenure or contract period. The yearly policy assessment must encompass a scrutiny of any interconnected or referenced protocols, standards, or directives.   \n",
       "2                                                                                                                                                                                                     Management shall ensure that information security responsibilities are communicated to individuals, through written job descriptions, policies or some other documented method which is accurately updated and maintained. Compliance with information security policies and procedures and fulfillment of information security responsibilities shall be evaluated as part of the performance review process wherever applicable.   \n",
       "3                                                                                                                                                                                                                                               Management must guarantee that information security obligations are conveyed to individuals, either through written job outlines, policies, or alternative documented means that are regularly updated and managed accurately. Compliance with information security protocols and the fulfillment of related duties should form part of the performance evaluation process in all cases.   \n",
       "4                                                                                                                                                                                                                                                                                                                                                                                                                                                                                  Management should factor in undue pressures and potential fraud scenarios when devising incentives and delineating roles, duties, and authorizations.   \n",
       "5                                                                                                                                                                                                                                                                                                                                                                                                                                                                      Management shall consider excessive pressures, and opportunities for fraud when establishing incentives and segregating roles, responsibilities, and authorities.   \n",
       "6                                                                                                                                                                                                                                                                                                                                                                                                                                                                                              To ensure that employees and contractors meet security requirements, understand their responsibilities, and are suitable for their roles.   \n",
       "7                                                                                                                                                                                                                                                                                                                                                                                    All <Company Name> employees will undergo an annual performance review which will include an assessment of job performance, competence in the role, adherence to company policies and code of conduct, and achievement of role-specific objectives.   \n",
       "8                                                                                                                                                                                                                                                                         Information security leaders and managers shall ensure appropriate professional development occurs to provide an understanding of current threats and trends in the security landscape. Security leaders and key stakeholders shall attend trainings, obtain and maintain relevant certifications, and maintain memberships in industry groups as appropriate.   \n",
       "9  All <Company Name> employees and third-parties with administrative or privileged technical access to <Company Name> production systems and networks shall complete security awareness training at the time of hire and annually thereafter. Management shall monitor training completion and shall take appropriate steps to ensure compliance with this policy. Employees and contractors shall be aware of relevant information security and data privacy policies and procedures. The company shall ensure that personnel receive security and data privacy training appropriate to their role and data handling responsibilities.   \n",
       "\n",
       "   id  year_created  \n",
       "0   6          2024  \n",
       "1  16          2023  \n",
       "2   7          2024  \n",
       "3  18          2023  \n",
       "4  17          2023  \n",
       "5   8          2024  \n",
       "6   0          2024  \n",
       "7   4          2024  \n",
       "8  11          2024  \n",
       "9   9          2024  "
      ]
     },
     "execution_count": 24,
     "metadata": {},
     "output_type": "execute_result"
    }
   ],
   "source": [
    "only_relevance_result = app.query(\n",
    "    knowledgebase_query,\n",
    "    relevance_weight=1,\n",
    "    recency_weight=0,\n",
    "    search_query=initial_query_text,\n",
    "    limit=TOP_N,\n",
    ")\n",
    "\n",
    "present_result(only_relevance_result)"
   ]
  },
  {
   "cell_type": "markdown",
   "metadata": {},
   "source": [
    "Let's observe the difference between elements with ids 16 and 6, respectively! These documents essentially say the same thing, except that the old document prescribes a **bi-annual**, while the fresh one an **annual** review on policies and procedures. Let's see what happens if we upweight recency."
   ]
  },
  {
   "cell_type": "code",
   "execution_count": 25,
   "metadata": {},
   "outputs": [
    {
     "data": {
      "text/html": [
       "<div>\n",
       "<style scoped>\n",
       "    .dataframe tbody tr th:only-of-type {\n",
       "        vertical-align: middle;\n",
       "    }\n",
       "\n",
       "    .dataframe tbody tr th {\n",
       "        vertical-align: top;\n",
       "    }\n",
       "\n",
       "    .dataframe thead th {\n",
       "        text-align: right;\n",
       "    }\n",
       "</style>\n",
       "<table border=\"1\" class=\"dataframe\">\n",
       "  <thead>\n",
       "    <tr style=\"text-align: right;\">\n",
       "      <th></th>\n",
       "      <th>body</th>\n",
       "      <th>id</th>\n",
       "      <th>year_created</th>\n",
       "    </tr>\n",
       "  </thead>\n",
       "  <tbody>\n",
       "    <tr>\n",
       "      <th>0</th>\n",
       "      <td>Management shall be responsible for ensuring that information security policies and procedures are reviewed annually, distributed and available, and that employees and contractors abide by those policies and procedures for the duration of their employment or engagement. Annual policy review shall include a review of any linked or referenced procedures, standards or guidelines.</td>\n",
       "      <td>6</td>\n",
       "      <td>2024</td>\n",
       "    </tr>\n",
       "    <tr>\n",
       "      <th>1</th>\n",
       "      <td>Management shall ensure that information security responsibilities are communicated to individuals, through written job descriptions, policies or some other documented method which is accurately updated and maintained. Compliance with information security policies and procedures and fulfillment of information security responsibilities shall be evaluated as part of the performance review process wherever applicable.</td>\n",
       "      <td>7</td>\n",
       "      <td>2024</td>\n",
       "    </tr>\n",
       "    <tr>\n",
       "      <th>2</th>\n",
       "      <td>Management shall consider excessive pressures, and opportunities for fraud when establishing incentives and segregating roles, responsibilities, and authorities.</td>\n",
       "      <td>8</td>\n",
       "      <td>2024</td>\n",
       "    </tr>\n",
       "    <tr>\n",
       "      <th>3</th>\n",
       "      <td>To ensure that employees and contractors meet security requirements, understand their responsibilities, and are suitable for their roles.</td>\n",
       "      <td>0</td>\n",
       "      <td>2024</td>\n",
       "    </tr>\n",
       "    <tr>\n",
       "      <th>4</th>\n",
       "      <td>All &lt;Company Name&gt; employees will undergo an annual performance review which will include an assessment of job performance, competence in the role, adherence to company policies and code of conduct, and achievement of role-specific objectives.</td>\n",
       "      <td>4</td>\n",
       "      <td>2024</td>\n",
       "    </tr>\n",
       "    <tr>\n",
       "      <th>5</th>\n",
       "      <td>Information security leaders and managers shall ensure appropriate professional development occurs to provide an understanding of current threats and trends in the security landscape. Security leaders and key stakeholders shall attend trainings, obtain and maintain relevant certifications, and maintain memberships in industry groups as appropriate.</td>\n",
       "      <td>11</td>\n",
       "      <td>2024</td>\n",
       "    </tr>\n",
       "    <tr>\n",
       "      <th>6</th>\n",
       "      <td>All &lt;Company Name&gt; employees and third-parties with administrative or privileged technical access to &lt;Company Name&gt; production systems and networks shall complete security awareness training at the time of hire and annually thereafter. Management shall monitor training completion and shall take appropriate steps to ensure compliance with this policy. Employees and contractors shall be aware of relevant information security and data privacy policies and procedures. The company shall ensure that personnel receive security and data privacy training appropriate to their role and data handling responsibilities.</td>\n",
       "      <td>9</td>\n",
       "      <td>2024</td>\n",
       "    </tr>\n",
       "    <tr>\n",
       "      <th>7</th>\n",
       "      <td>In order to maintain a robust level of security awareness, the company will provide security-related updates and communications to company personnel on an on-going basis through multiple communication channels as needed.</td>\n",
       "      <td>10</td>\n",
       "      <td>2024</td>\n",
       "    </tr>\n",
       "    <tr>\n",
       "      <th>8</th>\n",
       "      <td>Management is tasked with ensuring that information security policies and procedures undergo an bi-annual review, are disseminated and accessible, and that employees and contractors adhere to them throughout their tenure or contract period. The yearly policy assessment must encompass a scrutiny of any interconnected or referenced protocols, standards, or directives.</td>\n",
       "      <td>16</td>\n",
       "      <td>2023</td>\n",
       "    </tr>\n",
       "    <tr>\n",
       "      <th>9</th>\n",
       "      <td>Background verification checks on &lt;Company Name&gt; personnel shall be carried out in accordance with relevant laws, regulations, and shall be proportional to the business requirements, the classification of the information to be accessed, and the perceived risks. Background screening shall include criminal history checks unless prohibited by local statute. All third-parties with technical privileged or administrative access to &lt;Company Name&gt; production systems or networks are subject to a background check or requirement to provide evidence of an acceptable background, based on their level of access and the perceived risk to &lt;Company Name&gt;.</td>\n",
       "      <td>2</td>\n",
       "      <td>2024</td>\n",
       "    </tr>\n",
       "  </tbody>\n",
       "</table>\n",
       "</div>"
      ],
      "text/plain": [
       "                                                                                                                                                                                                                                                                                                                                                                                                                                                                                                                                                                                                                                                                    body  \\\n",
       "0                                                                                                                                                                                                                                                                            Management shall be responsible for ensuring that information security policies and procedures are reviewed annually, distributed and available, and that employees and contractors abide by those policies and procedures for the duration of their employment or engagement. Annual policy review shall include a review of any linked or referenced procedures, standards or guidelines.   \n",
       "1                                                                                                                                                                                                                                     Management shall ensure that information security responsibilities are communicated to individuals, through written job descriptions, policies or some other documented method which is accurately updated and maintained. Compliance with information security policies and procedures and fulfillment of information security responsibilities shall be evaluated as part of the performance review process wherever applicable.   \n",
       "2                                                                                                                                                                                                                                                                                                                                                                                                                                                                                                      Management shall consider excessive pressures, and opportunities for fraud when establishing incentives and segregating roles, responsibilities, and authorities.   \n",
       "3                                                                                                                                                                                                                                                                                                                                                                                                                                                                                                                              To ensure that employees and contractors meet security requirements, understand their responsibilities, and are suitable for their roles.   \n",
       "4                                                                                                                                                                                                                                                                                                                                                                                                                    All <Company Name> employees will undergo an annual performance review which will include an assessment of job performance, competence in the role, adherence to company policies and code of conduct, and achievement of role-specific objectives.   \n",
       "5                                                                                                                                                                                                                                                                                                         Information security leaders and managers shall ensure appropriate professional development occurs to provide an understanding of current threats and trends in the security landscape. Security leaders and key stakeholders shall attend trainings, obtain and maintain relevant certifications, and maintain memberships in industry groups as appropriate.   \n",
       "6                                  All <Company Name> employees and third-parties with administrative or privileged technical access to <Company Name> production systems and networks shall complete security awareness training at the time of hire and annually thereafter. Management shall monitor training completion and shall take appropriate steps to ensure compliance with this policy. Employees and contractors shall be aware of relevant information security and data privacy policies and procedures. The company shall ensure that personnel receive security and data privacy training appropriate to their role and data handling responsibilities.   \n",
       "7                                                                                                                                                                                                                                                                                                                                                                                                                                           In order to maintain a robust level of security awareness, the company will provide security-related updates and communications to company personnel on an on-going basis through multiple communication channels as needed.   \n",
       "8                                                                                                                                                                                                                                                                                       Management is tasked with ensuring that information security policies and procedures undergo an bi-annual review, are disseminated and accessible, and that employees and contractors adhere to them throughout their tenure or contract period. The yearly policy assessment must encompass a scrutiny of any interconnected or referenced protocols, standards, or directives.   \n",
       "9  Background verification checks on <Company Name> personnel shall be carried out in accordance with relevant laws, regulations, and shall be proportional to the business requirements, the classification of the information to be accessed, and the perceived risks. Background screening shall include criminal history checks unless prohibited by local statute. All third-parties with technical privileged or administrative access to <Company Name> production systems or networks are subject to a background check or requirement to provide evidence of an acceptable background, based on their level of access and the perceived risk to <Company Name>.   \n",
       "\n",
       "   id  year_created  \n",
       "0   6          2024  \n",
       "1   7          2024  \n",
       "2   8          2024  \n",
       "3   0          2024  \n",
       "4   4          2024  \n",
       "5  11          2024  \n",
       "6   9          2024  \n",
       "7  10          2024  \n",
       "8  16          2023  \n",
       "9   2          2024  "
      ]
     },
     "execution_count": 25,
     "metadata": {},
     "output_type": "execute_result"
    }
   ],
   "source": [
    "mild_recency_result = app.query(\n",
    "    knowledgebase_query,\n",
    "    relevance_weight=1,\n",
    "    recency_weight=0.15,\n",
    "    search_query=initial_query_text,\n",
    "    limit=TOP_N,\n",
    ")\n",
    "\n",
    "present_result(mild_recency_result)"
   ]
  },
  {
   "cell_type": "markdown",
   "metadata": {},
   "source": [
    "Now, document the relative position of element 6 compared to 16 improved as it received a score boost for it's recency. We can see the same dynamics here between documents with IDs 7 and 18 - doc 7 softened the requirement to \"wherever applicable\" from \"in all cases\". It is a useful feature that documents stating essentially the same can be differentiated through their freshness - let's boost that and see if we can have only recent, not outdated, information in our results."
   ]
  },
  {
   "cell_type": "code",
   "execution_count": 26,
   "metadata": {},
   "outputs": [
    {
     "data": {
      "text/html": [
       "<div>\n",
       "<style scoped>\n",
       "    .dataframe tbody tr th:only-of-type {\n",
       "        vertical-align: middle;\n",
       "    }\n",
       "\n",
       "    .dataframe tbody tr th {\n",
       "        vertical-align: top;\n",
       "    }\n",
       "\n",
       "    .dataframe thead th {\n",
       "        text-align: right;\n",
       "    }\n",
       "</style>\n",
       "<table border=\"1\" class=\"dataframe\">\n",
       "  <thead>\n",
       "    <tr style=\"text-align: right;\">\n",
       "      <th></th>\n",
       "      <th>body</th>\n",
       "      <th>id</th>\n",
       "      <th>year_created</th>\n",
       "    </tr>\n",
       "  </thead>\n",
       "  <tbody>\n",
       "    <tr>\n",
       "      <th>0</th>\n",
       "      <td>Management shall be responsible for ensuring that information security policies and procedures are reviewed annually, distributed and available, and that employees and contractors abide by those policies and procedures for the duration of their employment or engagement. Annual policy review shall include a review of any linked or referenced procedures, standards or guidelines.</td>\n",
       "      <td>6</td>\n",
       "      <td>2024</td>\n",
       "    </tr>\n",
       "    <tr>\n",
       "      <th>1</th>\n",
       "      <td>Management shall ensure that information security responsibilities are communicated to individuals, through written job descriptions, policies or some other documented method which is accurately updated and maintained. Compliance with information security policies and procedures and fulfillment of information security responsibilities shall be evaluated as part of the performance review process wherever applicable.</td>\n",
       "      <td>7</td>\n",
       "      <td>2024</td>\n",
       "    </tr>\n",
       "    <tr>\n",
       "      <th>2</th>\n",
       "      <td>Management shall consider excessive pressures, and opportunities for fraud when establishing incentives and segregating roles, responsibilities, and authorities.</td>\n",
       "      <td>8</td>\n",
       "      <td>2024</td>\n",
       "    </tr>\n",
       "    <tr>\n",
       "      <th>3</th>\n",
       "      <td>To ensure that employees and contractors meet security requirements, understand their responsibilities, and are suitable for their roles.</td>\n",
       "      <td>0</td>\n",
       "      <td>2024</td>\n",
       "    </tr>\n",
       "    <tr>\n",
       "      <th>4</th>\n",
       "      <td>All &lt;Company Name&gt; employees will undergo an annual performance review which will include an assessment of job performance, competence in the role, adherence to company policies and code of conduct, and achievement of role-specific objectives.</td>\n",
       "      <td>4</td>\n",
       "      <td>2024</td>\n",
       "    </tr>\n",
       "    <tr>\n",
       "      <th>5</th>\n",
       "      <td>Information security leaders and managers shall ensure appropriate professional development occurs to provide an understanding of current threats and trends in the security landscape. Security leaders and key stakeholders shall attend trainings, obtain and maintain relevant certifications, and maintain memberships in industry groups as appropriate.</td>\n",
       "      <td>11</td>\n",
       "      <td>2024</td>\n",
       "    </tr>\n",
       "    <tr>\n",
       "      <th>6</th>\n",
       "      <td>All &lt;Company Name&gt; employees and third-parties with administrative or privileged technical access to &lt;Company Name&gt; production systems and networks shall complete security awareness training at the time of hire and annually thereafter. Management shall monitor training completion and shall take appropriate steps to ensure compliance with this policy. Employees and contractors shall be aware of relevant information security and data privacy policies and procedures. The company shall ensure that personnel receive security and data privacy training appropriate to their role and data handling responsibilities.</td>\n",
       "      <td>9</td>\n",
       "      <td>2024</td>\n",
       "    </tr>\n",
       "    <tr>\n",
       "      <th>7</th>\n",
       "      <td>In order to maintain a robust level of security awareness, the company will provide security-related updates and communications to company personnel on an on-going basis through multiple communication channels as needed.</td>\n",
       "      <td>10</td>\n",
       "      <td>2024</td>\n",
       "    </tr>\n",
       "    <tr>\n",
       "      <th>8</th>\n",
       "      <td>Background verification checks on &lt;Company Name&gt; personnel shall be carried out in accordance with relevant laws, regulations, and shall be proportional to the business requirements, the classification of the information to be accessed, and the perceived risks. Background screening shall include criminal history checks unless prohibited by local statute. All third-parties with technical privileged or administrative access to &lt;Company Name&gt; production systems or networks are subject to a background check or requirement to provide evidence of an acceptable background, based on their level of access and the perceived risk to &lt;Company Name&gt;.</td>\n",
       "      <td>2</td>\n",
       "      <td>2024</td>\n",
       "    </tr>\n",
       "    <tr>\n",
       "      <th>9</th>\n",
       "      <td>Company policies and information security roles and responsibilities shall be communicated to employees and third-parties at the time of hire or engagement, and employees and contractors are required to formally acknowledge their understanding and acceptance of their security responsibilities. Employees and third-parties with access to company or customer information shall sign an appropriate non-disclosure, confidentiality, and appropriate code-of-conduct agreements. Contractual agreements shall state responsibilities for information security as needed. Employees and relevant third-parties shall follow all &lt;Company Name&gt; information security policies.</td>\n",
       "      <td>5</td>\n",
       "      <td>2024</td>\n",
       "    </tr>\n",
       "  </tbody>\n",
       "</table>\n",
       "</div>"
      ],
      "text/plain": [
       "                                                                                                                                                                                                                                                                                                                                                                                                                                                                                                                                                                                                                                                                                   body  \\\n",
       "0                                                                                                                                                                                                                                                                                           Management shall be responsible for ensuring that information security policies and procedures are reviewed annually, distributed and available, and that employees and contractors abide by those policies and procedures for the duration of their employment or engagement. Annual policy review shall include a review of any linked or referenced procedures, standards or guidelines.   \n",
       "1                                                                                                                                                                                                                                                    Management shall ensure that information security responsibilities are communicated to individuals, through written job descriptions, policies or some other documented method which is accurately updated and maintained. Compliance with information security policies and procedures and fulfillment of information security responsibilities shall be evaluated as part of the performance review process wherever applicable.   \n",
       "2                                                                                                                                                                                                                                                                                                                                                                                                                                                                                                                     Management shall consider excessive pressures, and opportunities for fraud when establishing incentives and segregating roles, responsibilities, and authorities.   \n",
       "3                                                                                                                                                                                                                                                                                                                                                                                                                                                                                                                                             To ensure that employees and contractors meet security requirements, understand their responsibilities, and are suitable for their roles.   \n",
       "4                                                                                                                                                                                                                                                                                                                                                                                                                                   All <Company Name> employees will undergo an annual performance review which will include an assessment of job performance, competence in the role, adherence to company policies and code of conduct, and achievement of role-specific objectives.   \n",
       "5                                                                                                                                                                                                                                                                                                                        Information security leaders and managers shall ensure appropriate professional development occurs to provide an understanding of current threats and trends in the security landscape. Security leaders and key stakeholders shall attend trainings, obtain and maintain relevant certifications, and maintain memberships in industry groups as appropriate.   \n",
       "6                                                 All <Company Name> employees and third-parties with administrative or privileged technical access to <Company Name> production systems and networks shall complete security awareness training at the time of hire and annually thereafter. Management shall monitor training completion and shall take appropriate steps to ensure compliance with this policy. Employees and contractors shall be aware of relevant information security and data privacy policies and procedures. The company shall ensure that personnel receive security and data privacy training appropriate to their role and data handling responsibilities.   \n",
       "7                                                                                                                                                                                                                                                                                                                                                                                                                                                          In order to maintain a robust level of security awareness, the company will provide security-related updates and communications to company personnel on an on-going basis through multiple communication channels as needed.   \n",
       "8                 Background verification checks on <Company Name> personnel shall be carried out in accordance with relevant laws, regulations, and shall be proportional to the business requirements, the classification of the information to be accessed, and the perceived risks. Background screening shall include criminal history checks unless prohibited by local statute. All third-parties with technical privileged or administrative access to <Company Name> production systems or networks are subject to a background check or requirement to provide evidence of an acceptable background, based on their level of access and the perceived risk to <Company Name>.   \n",
       "9  Company policies and information security roles and responsibilities shall be communicated to employees and third-parties at the time of hire or engagement, and employees and contractors are required to formally acknowledge their understanding and acceptance of their security responsibilities. Employees and third-parties with access to company or customer information shall sign an appropriate non-disclosure, confidentiality, and appropriate code-of-conduct agreements. Contractual agreements shall state responsibilities for information security as needed. Employees and relevant third-parties shall follow all <Company Name> information security policies.   \n",
       "\n",
       "   id  year_created  \n",
       "0   6          2024  \n",
       "1   7          2024  \n",
       "2   8          2024  \n",
       "3   0          2024  \n",
       "4   4          2024  \n",
       "5  11          2024  \n",
       "6   9          2024  \n",
       "7  10          2024  \n",
       "8   2          2024  \n",
       "9   5          2024  "
      ]
     },
     "execution_count": 26,
     "metadata": {},
     "output_type": "execute_result"
    }
   ],
   "source": [
    "normal_recency_result = app.query(\n",
    "    knowledgebase_query,\n",
    "    relevance_weight=1,\n",
    "    recency_weight=0.25,\n",
    "    search_query=initial_query_text,\n",
    "    limit=TOP_N,\n",
    ")\n",
    "\n",
    "norm_recency_result_df = present_result(normal_recency_result)\n",
    "norm_recency_result_df"
   ]
  },
  {
   "cell_type": "markdown",
   "metadata": {},
   "source": [
    "Yes, we can! Now that all results are fresh, the outdated counterparts were removed from the result set. This way we can supply a nice and clean context to the generation model.\n",
    "\n",
    "It is also important to see that the same weights produce relevant results for queries about maternity leave—a topic only discussed in the older HR document. It does not get overruled by recent but not relevant documents."
   ]
  },
  {
   "cell_type": "code",
   "execution_count": 27,
   "metadata": {},
   "outputs": [
    {
     "data": {
      "text/html": [
       "<div>\n",
       "<style scoped>\n",
       "    .dataframe tbody tr th:only-of-type {\n",
       "        vertical-align: middle;\n",
       "    }\n",
       "\n",
       "    .dataframe tbody tr th {\n",
       "        vertical-align: top;\n",
       "    }\n",
       "\n",
       "    .dataframe thead th {\n",
       "        text-align: right;\n",
       "    }\n",
       "</style>\n",
       "<table border=\"1\" class=\"dataframe\">\n",
       "  <thead>\n",
       "    <tr style=\"text-align: right;\">\n",
       "      <th></th>\n",
       "      <th>body</th>\n",
       "      <th>id</th>\n",
       "      <th>year_created</th>\n",
       "    </tr>\n",
       "  </thead>\n",
       "  <tbody>\n",
       "    <tr>\n",
       "      <th>0</th>\n",
       "      <td>[Company Name] is committed to supporting employees during significant life events such as the birth or adoption of a child. Our Maternity Leave Policy aims to provide eligible employees with the necessary time off to bond with their newborn or newly adopted child and to ensure a smooth transition back to work.</td>\n",
       "      <td>22</td>\n",
       "      <td>2023</td>\n",
       "    </tr>\n",
       "    <tr>\n",
       "      <th>1</th>\n",
       "      <td>Following childbirth or adoption, employees are entitled to [XX weeks/months] of paid maternity leave to recover from childbirth, bond with their newborn or adopted child, and adjust to their new family dynamic. This period of leave is intended to promote the physical and emotional well-being of both the parent and child during the crucial early stages of development.</td>\n",
       "      <td>26</td>\n",
       "      <td>2023</td>\n",
       "    </tr>\n",
       "    <tr>\n",
       "      <th>2</th>\n",
       "      <td>[Company Name] is committed to maintaining the confidentiality of employees' maternity leave and pregnancy-related information in accordance with applicable privacy laws. Additionally, [Company Name] prohibits discrimination or retaliation against employees for exercising their rights under this policy or applicable law.</td>\n",
       "      <td>30</td>\n",
       "      <td>2023</td>\n",
       "    </tr>\n",
       "    <tr>\n",
       "      <th>3</th>\n",
       "      <td>Eligible employees are entitled to up to [XX weeks/months] of paid maternity leave, which includes both prenatal and postnatal leave. Additionally, eligible employees may also take up to [XX weeks/months] of unpaid maternity leave following the conclusion of their paid leave, as provided under the Family and Medical Leave Act (FMLA) and applicable state laws.</td>\n",
       "      <td>24</td>\n",
       "      <td>2023</td>\n",
       "    </tr>\n",
       "    <tr>\n",
       "      <th>4</th>\n",
       "      <td>[Company Name] recognizes the importance of work-life balance and supports flexible work arrangements, including telecommuting and adjusted work schedules, to facilitate a smooth transition back to work for new parents. Employees returning from maternity leave are encouraged to discuss their individual needs and preferences with their supervisor and HR department to explore available options.</td>\n",
       "      <td>27</td>\n",
       "      <td>2023</td>\n",
       "    </tr>\n",
       "    <tr>\n",
       "      <th>5</th>\n",
       "      <td>All full-time and part-time employees are eligible for maternity leave if they have been employed by [Company Name] for at least 12 months and have worked a minimum of 1,250 hours during the 12-month period preceding the commencement of leave. This policy applies equally to biological mothers, adoptive parents, and employees expecting the birth of a child through surrogacy.</td>\n",
       "      <td>23</td>\n",
       "      <td>2023</td>\n",
       "    </tr>\n",
       "    <tr>\n",
       "      <th>6</th>\n",
       "      <td>At the conclusion of maternity leave, employees are expected to return to their regular duties and responsibilities. [Company Name] will make reasonable efforts to accommodate the transition back to work, including providing any necessary training or support to help employees reintegrate into the workplace successfully.</td>\n",
       "      <td>29</td>\n",
       "      <td>2023</td>\n",
       "    </tr>\n",
       "    <tr>\n",
       "      <th>7</th>\n",
       "      <td>This Maternity Leave Policy will be reviewed periodically by the HR department to ensure compliance with relevant laws and regulations and to assess its effectiveness in supporting the needs of employees and their families.</td>\n",
       "      <td>32</td>\n",
       "      <td>2023</td>\n",
       "    </tr>\n",
       "    <tr>\n",
       "      <th>8</th>\n",
       "      <td>During maternity leave, eligible employees will continue to receive their regular salary and benefits in accordance with [Company Name]'s existing benefits policies. Employees may also continue their health insurance coverage during unpaid leave by electing to pay the required premiums as permitted under the Consolidated Omnibus Budget Reconciliation Act (COBRA).</td>\n",
       "      <td>28</td>\n",
       "      <td>2023</td>\n",
       "    </tr>\n",
       "    <tr>\n",
       "      <th>9</th>\n",
       "      <td>Expectant mothers may commence their maternity leave [XX weeks/months] before the expected date of delivery to attend prenatal appointments, prepare for childbirth, and address any pregnancy-related complications. The timing of prenatal leave should be discussed and coordinated with the employee's supervisor and HR department.</td>\n",
       "      <td>25</td>\n",
       "      <td>2023</td>\n",
       "    </tr>\n",
       "  </tbody>\n",
       "</table>\n",
       "</div>"
      ],
      "text/plain": [
       "                                                                                                                                                                                                                                                                                                                                                                                                          body  \\\n",
       "0                                                                                     [Company Name] is committed to supporting employees during significant life events such as the birth or adoption of a child. Our Maternity Leave Policy aims to provide eligible employees with the necessary time off to bond with their newborn or newly adopted child and to ensure a smooth transition back to work.   \n",
       "1                           Following childbirth or adoption, employees are entitled to [XX weeks/months] of paid maternity leave to recover from childbirth, bond with their newborn or adopted child, and adjust to their new family dynamic. This period of leave is intended to promote the physical and emotional well-being of both the parent and child during the crucial early stages of development.   \n",
       "2                                                                           [Company Name] is committed to maintaining the confidentiality of employees' maternity leave and pregnancy-related information in accordance with applicable privacy laws. Additionally, [Company Name] prohibits discrimination or retaliation against employees for exercising their rights under this policy or applicable law.   \n",
       "3                                    Eligible employees are entitled to up to [XX weeks/months] of paid maternity leave, which includes both prenatal and postnatal leave. Additionally, eligible employees may also take up to [XX weeks/months] of unpaid maternity leave following the conclusion of their paid leave, as provided under the Family and Medical Leave Act (FMLA) and applicable state laws.   \n",
       "4  [Company Name] recognizes the importance of work-life balance and supports flexible work arrangements, including telecommuting and adjusted work schedules, to facilitate a smooth transition back to work for new parents. Employees returning from maternity leave are encouraged to discuss their individual needs and preferences with their supervisor and HR department to explore available options.   \n",
       "5                     All full-time and part-time employees are eligible for maternity leave if they have been employed by [Company Name] for at least 12 months and have worked a minimum of 1,250 hours during the 12-month period preceding the commencement of leave. This policy applies equally to biological mothers, adoptive parents, and employees expecting the birth of a child through surrogacy.   \n",
       "6                                                                            At the conclusion of maternity leave, employees are expected to return to their regular duties and responsibilities. [Company Name] will make reasonable efforts to accommodate the transition back to work, including providing any necessary training or support to help employees reintegrate into the workplace successfully.   \n",
       "7                                                                                                                                                                              This Maternity Leave Policy will be reviewed periodically by the HR department to ensure compliance with relevant laws and regulations and to assess its effectiveness in supporting the needs of employees and their families.   \n",
       "8                                During maternity leave, eligible employees will continue to receive their regular salary and benefits in accordance with [Company Name]'s existing benefits policies. Employees may also continue their health insurance coverage during unpaid leave by electing to pay the required premiums as permitted under the Consolidated Omnibus Budget Reconciliation Act (COBRA).   \n",
       "9                                                                     Expectant mothers may commence their maternity leave [XX weeks/months] before the expected date of delivery to attend prenatal appointments, prepare for childbirth, and address any pregnancy-related complications. The timing of prenatal leave should be discussed and coordinated with the employee's supervisor and HR department.   \n",
       "\n",
       "   id  year_created  \n",
       "0  22          2023  \n",
       "1  26          2023  \n",
       "2  30          2023  \n",
       "3  24          2023  \n",
       "4  27          2023  \n",
       "5  23          2023  \n",
       "6  29          2023  \n",
       "7  32          2023  \n",
       "8  28          2023  \n",
       "9  25          2023  "
      ]
     },
     "execution_count": 27,
     "metadata": {},
     "output_type": "execute_result"
    }
   ],
   "source": [
    "normal_recency_result = app.query(\n",
    "    knowledgebase_query,\n",
    "    relevance_weight=1,\n",
    "    recency_weight=0.25,\n",
    "    search_query=\"What are the companies terms for maternal leave?\",\n",
    "    limit=TOP_N,\n",
    ")\n",
    "\n",
    "maternity_result = present_result(normal_recency_result)\n",
    "maternity_result"
   ]
  },
  {
   "cell_type": "markdown",
   "metadata": {},
   "source": [
    "### Augmentation - formulate query for our LLM for generation"
   ]
  },
  {
   "cell_type": "code",
   "execution_count": 37,
   "metadata": {},
   "outputs": [],
   "source": [
    "context_items_from_retrieval: int = 5\n",
    "context_text: str = (\n",
    "    \"\\n\"\n",
    "    + \"\\n\".join(\n",
    "        f for f in norm_recency_result_df[\"body\"].iloc[:context_items_from_retrieval]\n",
    "    )\n",
    "    + \"\\n\"\n",
    ")"
   ]
  },
  {
   "cell_type": "code",
   "execution_count": 38,
   "metadata": {},
   "outputs": [
    {
     "name": "stdout",
     "output_type": "stream",
     "text": [
      "\n",
      "Management shall be responsible for ensuring that information security policies and procedures are reviewed annually, distributed and available, and that employees and contractors abide by those policies and procedures for the duration of their employment or engagement. Annual policy review shall include a review of any linked or referenced procedures, standards or guidelines.\n",
      "Management shall ensure that information security responsibilities are communicated to individuals, through written job descriptions, policies or some other documented method which is accurately updated and maintained. Compliance with information security policies and procedures and fulfillment of information security responsibilities shall be evaluated as part of the performance review process wherever applicable.\n",
      "Management shall consider excessive pressures, and opportunities for fraud when establishing incentives and segregating roles, responsibilities, and authorities.\n",
      "To ensure that employees and contractors meet security requirements, understand their responsibilities, and are suitable for their roles.\n",
      "All <Company Name> employees will undergo an annual performance review which will include an assessment of job performance, competence in the role, adherence to company policies and code of conduct, and achievement of role-specific objectives.\n",
      "\n"
     ]
    }
   ],
   "source": [
    "print(context_text)"
   ]
  },
  {
   "cell_type": "markdown",
   "metadata": {},
   "source": [
    "### Generation - prompt the LLM for text generation to answer our query"
   ]
  },
  {
   "cell_type": "code",
   "execution_count": 43,
   "metadata": {},
   "outputs": [],
   "source": [
    "client = OpenAI(api_key=os.environ.get(\"OPENAI_API_KEY\"))"
   ]
  },
  {
   "cell_type": "code",
   "execution_count": 44,
   "metadata": {},
   "outputs": [],
   "source": [
    "ai_system_context = \"\"\"\n",
    "You are a helpful, respectful and honest assistant. Always answer as helpfully as possible, while being safe. \n",
    "If a question does not make any sense, or is not factually coherent, explain why instead of answering something not correct. \n",
    "If you don't know the answer to a question, please don't share false information.\n",
    "\"\"\""
   ]
  },
  {
   "cell_type": "code",
   "execution_count": 45,
   "metadata": {},
   "outputs": [],
   "source": [
    "def generate_response(context, query):\n",
    "    \"\"\"\n",
    "    Generates a response using ChatGPT.\n",
    "\n",
    "    Parameters:\n",
    "    context (str): The context or conversation history.\n",
    "    query (str): The user's question or message.\n",
    "\n",
    "    Returns:\n",
    "    str: The generated response from ChatGPT.\n",
    "    \"\"\"\n",
    "    chat_completion = client.chat.completions.create(\n",
    "        model=\"gpt-4o\",\n",
    "        messages=[\n",
    "            {\n",
    "                \"role\": \"system\",\n",
    "                \"content\": ai_system_context\n",
    "            },\n",
    "            {\n",
    "                \"role\": \"user\",\n",
    "                \"content\": f\"Context: {context}\\n\\nQuestion: {query}\",\n",
    "            }\n",
    "        ],\n",
    "        temperature=0.7,\n",
    "    )\n",
    "\n",
    "    return chat_completion.choices[0].message.content"
   ]
  },
  {
   "cell_type": "code",
   "execution_count": 47,
   "metadata": {},
   "outputs": [
    {
     "name": "stdout",
     "output_type": "stream",
     "text": [
      "Management should monitor the following:\n",
      "\n",
      "1. **Annual Review of Policies and Procedures**: Ensure that information security policies and procedures are reviewed annually, including any linked or referenced procedures, standards, or guidelines.\n",
      "\n",
      "2. **Distribution and Availability of Policies**: Confirm that information security policies and procedures are distributed to all relevant parties and are readily available for reference.\n",
      "\n",
      "3. **Adherence to Policies and Procedures**: Verify that employees and contractors abide by the information security policies and procedures throughout their tenure.\n",
      "\n",
      "4. **Communication of Responsibilities**: Ensure that information security responsibilities are clearly communicated to individuals through documented methods such as written job descriptions or policies.\n",
      "\n",
      "5. **Updates and Maintenance**: Maintain accurate and up-to-date documentation of information security responsibilities.\n",
      "\n",
      "6. **Performance Evaluation**: Incorporate compliance with information security policies and procedures, as well as fulfillment of information security responsibilities, into the performance review process.\n",
      "\n",
      "7. **Incentives and Role Segregation**: Consider factors such as excessive pressures and opportunities for fraud when establishing incentives and segregating roles, responsibilities, and authorities.\n",
      "\n",
      "8. **Employee and Contractor Suitability**: Ensure that employees and contractors meet security requirements, understand their responsibilities, and are suitable for their roles.\n",
      "\n",
      "9. **Performance Reviews**: Conduct annual performance reviews for all employees, assessing job performance, role competence, adherence to company policies and code of conduct, and achievement of role-specific objectives.\n",
      "\n",
      "By monitoring these aspects, management can maintain a robust information security environment and ensure that all individuals are fulfilling their roles and responsibilities effectively.\n"
     ]
    }
   ],
   "source": [
    "print(generate_response(context_text, initial_query_text))"
   ]
  },
  {
   "cell_type": "code",
   "execution_count": null,
   "metadata": {},
   "outputs": [],
   "source": []
  }
 ],
 "metadata": {
  "kernelspec": {
   "display_name": "ragged-llama",
   "language": "python",
   "name": "python3"
  },
  "language_info": {
   "codemirror_mode": {
    "name": "ipython",
    "version": 3
   },
   "file_extension": ".py",
   "mimetype": "text/x-python",
   "name": "python",
   "nbconvert_exporter": "python",
   "pygments_lexer": "ipython3",
   "version": "3.10.14"
  }
 },
 "nbformat": 4,
 "nbformat_minor": 2
}
